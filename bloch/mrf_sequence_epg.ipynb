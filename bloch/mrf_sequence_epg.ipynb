{
 "cells": [
  {
   "cell_type": "code",
   "execution_count": 2,
   "id": "c73b831c",
   "metadata": {},
   "outputs": [
    {
     "name": "stdout",
     "output_type": "stream",
     "text": [
      "WARNING:tensorflow:From C:\\Users\\znanliu\\AppData\\Local\\anaconda3\\Lib\\site-packages\\keras\\src\\losses.py:2976: The name tf.losses.sparse_softmax_cross_entropy is deprecated. Please use tf.compat.v1.losses.sparse_softmax_cross_entropy instead.\n",
      "\n"
     ]
    }
   ],
   "source": [
    "import autograd.numpy as np\n",
    "\n",
    "%run epg_transforms.ipynb\n",
    "%run utils.ipynb\n",
    "\n",
    "from autograd import jacobian\n",
    "from autograd import deriv"
   ]
  },
  {
   "cell_type": "code",
   "execution_count": 3,
   "id": "127cdc80",
   "metadata": {},
   "outputs": [],
   "source": [
    "def mrf_ir_fisp_efficient_crb_forward_differentiation(M0, FAs, TEs, TRs, inversion_delay, T1, T2):\n",
    "\n",
    "    deriv_fn_T1 = deriv(mrf_ir_fisp_real, get_arg_index(mrf_ir_fisp_real, 'T1'))\n",
    "    deriv_fn_T2 = deriv(mrf_ir_fisp_real, get_arg_index(mrf_ir_fisp_real, 'T2'))\n",
    "    #deriv_fn_M0 = deriv(mrf_ir_fisp_real, get_arg_index(mrf_ir_fisp_real, 'M0'))    \n",
    "    \n",
    "    m_echos = mrf_ir_fisp_real(M0, FAs, TEs, TRs, inversion_delay, T1, T2)\n",
    "    \n",
    "    fim_T1 = np.transpose(deriv_fn_T1(M0, FAs, TEs, TRs, inversion_delay, T1, T2))\n",
    "    fim_T2 = np.transpose(deriv_fn_T2(M0, FAs, TEs, TRs, inversion_delay, T1, T2))\n",
    "    #fim_M0 = np.transpose(deriv_fn_M0(M0, FAs, TEs, TRs, inversion_delay, T1, T2))\n",
    "    \n",
    "    # if M0 == 1.0 (which should always be done - you can just weight the W crlb differently)\n",
    "    # then this is true so we can save a bit of computation, for N_TR = 1000, 10 EPG states, this lets us go from \n",
    "    # 22 -> 18.5 +/- 0.845 seconds for calculation of grad (using %%timeit)\n",
    "    fim_M0 = np.transpose(m_echos) \n",
    "    \n",
    "    return m_echos, fim_M0, fim_T1, fim_T2\n"
   ]
  },
  {
   "cell_type": "code",
   "execution_count": 4,
   "id": "de657f3c",
   "metadata": {},
   "outputs": [],
   "source": [
    "\"\"\"\n",
    "This function does only the bloch simulation, no crb calculation\n",
    "\"\"\"\n",
    "def mrf_ir_fisp_real(M0, FAs, TEs, TRs, inversion_delay, T1, T2):\n",
    "    \n",
    "    N = FAs.size\n",
    "    \n",
    "    # setup output list\n",
    "    m_echos = np.array([[0], [0]])\n",
    "    phi = 90. # degrees, this function assumes phi = 90 for all real states, but can be any number\n",
    "    N_states = get_N_states_epg()\n",
    "\n",
    "    def FZ_to_col(FZ):\n",
    "        return np.reshape(FZ, (3 * N_states, ))\n",
    "    \n",
    "    def col_to_FZ(col):\n",
    "        return np.reshape(col, (3, N_states))\n",
    "    \n",
    "    def op_inversion_relax(M0, inversion_delay, T1, T2):\n",
    "        FZ_start = get_FZ_init(M0) # create initial magnetization vector            \n",
    "        FZ_pre_flip = excite_relax_FZ(FZ_start, M0, 180., phi, inversion_delay, T1, T2)        \n",
    "        out = FZ_to_col(FZ_pre_flip)\n",
    "        return out\n",
    " \n",
    "    # FZ_vec should be 3 * N_states \n",
    "    # order is: real([F0, F1, F2, ..., FN, F0-, F1-, F2-, ..., FN-, Z0, ...., ZN])\n",
    "    def f2(FZ_vec_re, FA):       \n",
    "        R = get_rf_epg(FA, phi)\n",
    "        FZ_in = col_to_FZ(FZ_vec_re)\n",
    "        out = FZ_to_col(np.matmul(R, FZ_in))\n",
    "\n",
    "        return out\n",
    "     \n",
    "    def g2(FZ_vec_re, M0, T, T1, T2):\n",
    "        FZ_in = col_to_FZ(FZ_vec_re)\n",
    "        out = FZ_to_col(relax_FZ(FZ_in, M0, T, T1, T2))        \n",
    "\n",
    "        return out\n",
    "   \n",
    "    def h2(FZ_vec_re, M0, T, T1, T2):\n",
    "        FZ_state_for_spoiling = col_to_FZ(FZ_vec_re)\n",
    "        FZ_spoiled = grad_FZ(FZ_state_for_spoiling)\n",
    "        FZ_spoiled_vec = FZ_to_col(FZ_spoiled)\n",
    "        return g2(FZ_spoiled_vec, M0, T, T1, T2)\n",
    "                \n",
    "    def get_echo(FZ_vec):\n",
    "        echo = np.real(FZ0_to_M(col_to_FZ(FZ_vec)))[0:2, 0] # get mx, my\n",
    "        return echo    \n",
    "    \n",
    "    W_minus_1 = op_inversion_relax(M0, inversion_delay, T1, T2) # (3 * N_states)\n",
    "    \n",
    "    for ii in range(0, N):\n",
    "        # do the rf bundle                \n",
    "        U = f2(W_minus_1, FAs[ii]) # (3 * N_states)\n",
    "        \n",
    "        # do relax TE\n",
    "        V = g2(U, M0, TEs[ii], T1, T2) # (3 * N_states)\n",
    "        \n",
    "        # do relax TR - TE\n",
    "        W = h2(V, M0, TRs[ii] - TEs[ii], T1, T2) # (3 * N_states)\n",
    "        \n",
    "        m_echo = get_echo(V)      # (2, )\n",
    "        \n",
    "        W_minus_1 = W # make sure to update after calculating grads\n",
    "        m_echos = np.concatenate((m_echos, m_echo[:, np.newaxis]), axis=1)     \n",
    "        \n",
    "    m_echos = np.real(m_echos)\n",
    "    \n",
    "    return m_echos"
   ]
  },
  {
   "cell_type": "code",
   "execution_count": null,
   "id": "740b0b66",
   "metadata": {},
   "outputs": [],
   "source": []
  }
 ],
 "metadata": {
  "kernelspec": {
   "display_name": "Python 3 (ipykernel)",
   "language": "python",
   "name": "python3"
  },
  "language_info": {
   "codemirror_mode": {
    "name": "ipython",
    "version": 3
   },
   "file_extension": ".py",
   "mimetype": "text/x-python",
   "name": "python",
   "nbconvert_exporter": "python",
   "pygments_lexer": "ipython3",
   "version": "3.11.5"
  }
 },
 "nbformat": 4,
 "nbformat_minor": 5
}
